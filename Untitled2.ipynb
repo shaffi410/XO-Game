{
 "cells": [
  {
   "cell_type": "code",
   "execution_count": 1,
   "id": "c9d4fb64",
   "metadata": {},
   "outputs": [],
   "source": [
    "import numpy as np\n",
    "\n",
    "from util.symbol_emun import Symbol\n",
    "\n",
    "\n",
    "class Board:\n",
    "\n",
    "    def __init__(\n",
    "            self,\n",
    "            board_size: int,\n",
    "    ):\n",
    "\n",
    "        self.board_size: int = board_size\n",
    "        self.board: np = np.zeros(shape=(self.board_size, self.board_size))\n",
    "        self.board_occupied_slots: int = 0\n",
    "\n",
    "    def enter_symbol(self, symbol: Symbol, player_input_x: int, player_input_y: int):\n",
    "        self.board[player_input_x][player_input_y].append(symbol)\n",
    "        self.board_occupied_slots += 1\n",
    "\n",
    "    def print_board(self):\n",
    "        for i in range(self.board_size - 1):\n",
    "            for j in range(self.board_size - 1):\n",
    "                print(\"|\")\n",
    "                if j == self.board_size - 1:\n",
    "                    print(f\"{self.board[i][j]}|\", end=\"\\n\")\n",
    "                else:\n",
    "                    print(f\"{self.board[i][j]}|\")\n",
    "            for _ in range(self.board_size * 2 + 1):\n",
    "                print(\"_\")\n",
    "\n",
    "\n",
    "\n"
   ]
  },
  {
   "cell_type": "code",
   "execution_count": 2,
   "id": "bae2f07c",
   "metadata": {},
   "outputs": [],
   "source": [
    "board = Board(3)"
   ]
  },
  {
   "cell_type": "code",
   "execution_count": 3,
   "id": "cf6706b6",
   "metadata": {},
   "outputs": [
    {
     "ename": "NameError",
     "evalue": "name 'print_board' is not defined",
     "output_type": "error",
     "traceback": [
      "\u001b[1;31m---------------------------------------------------------------------------\u001b[0m",
      "\u001b[1;31mNameError\u001b[0m                                 Traceback (most recent call last)",
      "\u001b[1;32m~\\AppData\\Local\\Temp\\ipykernel_4816\\2120426383.py\u001b[0m in \u001b[0;36m<module>\u001b[1;34m\u001b[0m\n\u001b[1;32m----> 1\u001b[1;33m \u001b[0mprint_board\u001b[0m\u001b[1;33m(\u001b[0m\u001b[0mboard\u001b[0m\u001b[1;33m)\u001b[0m\u001b[1;33m\u001b[0m\u001b[1;33m\u001b[0m\u001b[0m\n\u001b[0m",
      "\u001b[1;31mNameError\u001b[0m: name 'print_board' is not defined"
     ]
    }
   ],
   "source": [
    "print_board(board)"
   ]
  },
  {
   "cell_type": "code",
   "execution_count": 4,
   "id": "69610ffb",
   "metadata": {},
   "outputs": [
    {
     "name": "stdout",
     "output_type": "stream",
     "text": [
      "|\n",
      "0.0|\n",
      "|\n",
      "0.0|\n",
      "_\n",
      "_\n",
      "_\n",
      "_\n",
      "_\n",
      "_\n",
      "_\n",
      "|\n",
      "0.0|\n",
      "|\n",
      "0.0|\n",
      "_\n",
      "_\n",
      "_\n",
      "_\n",
      "_\n",
      "_\n",
      "_\n"
     ]
    }
   ],
   "source": [
    "board.print_board()"
   ]
  },
  {
   "cell_type": "code",
   "execution_count": 5,
   "id": "8a5b9b8c",
   "metadata": {},
   "outputs": [
    {
     "ename": "TypeError",
     "evalue": "'Board' object is not subscriptable",
     "output_type": "error",
     "traceback": [
      "\u001b[1;31m---------------------------------------------------------------------------\u001b[0m",
      "\u001b[1;31mTypeError\u001b[0m                                 Traceback (most recent call last)",
      "\u001b[1;32m~\\AppData\\Local\\Temp\\ipykernel_4816\\4206106987.py\u001b[0m in \u001b[0;36m<module>\u001b[1;34m\u001b[0m\n\u001b[1;32m----> 1\u001b[1;33m \u001b[0mboard\u001b[0m\u001b[1;33m[\u001b[0m\u001b[1;36m1\u001b[0m\u001b[1;33m]\u001b[0m\u001b[1;33m[\u001b[0m\u001b[1;36m2\u001b[0m\u001b[1;33m]\u001b[0m\u001b[1;33m\u001b[0m\u001b[1;33m\u001b[0m\u001b[0m\n\u001b[0m",
      "\u001b[1;31mTypeError\u001b[0m: 'Board' object is not subscriptable"
     ]
    }
   ],
   "source": [
    "board[1][2]"
   ]
  },
  {
   "cell_type": "code",
   "execution_count": null,
   "id": "803562ca",
   "metadata": {},
   "outputs": [],
   "source": []
  }
 ],
 "metadata": {
  "kernelspec": {
   "display_name": "Python 3 (ipykernel)",
   "language": "python",
   "name": "python3"
  },
  "language_info": {
   "codemirror_mode": {
    "name": "ipython",
    "version": 3
   },
   "file_extension": ".py",
   "mimetype": "text/x-python",
   "name": "python",
   "nbconvert_exporter": "python",
   "pygments_lexer": "ipython3",
   "version": "3.9.6"
  }
 },
 "nbformat": 4,
 "nbformat_minor": 5
}
