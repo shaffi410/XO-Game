{
 "cells": [
  {
   "cell_type": "code",
   "execution_count": 22,
   "id": "61603be6",
   "metadata": {},
   "outputs": [],
   "source": [
    "import numpy as np\n",
    "\n",
    "from util.symbol_emun import Symbol\n",
    "\n",
    "\n",
    "class Board:\n",
    "\n",
    "    def __init__(\n",
    "            self,\n",
    "            board_size: int,\n",
    "    ):\n",
    "\n",
    "        self.board_size: int = board_size\n",
    "        self.board: np = np.zeros(shape=(self.board_size, self.board_size), dtype=int)\n",
    "        self.board_occupied_slots: int = 0\n",
    "\n",
    "    def enter_symbol(self, symbol: Symbol, player_input_x: int, player_input_y: int):\n",
    "        self.board[player_input_x][player_input_y].append(symbol)\n",
    "        self.board_occupied_slots += 1\n",
    "\n",
    "    def print_board(self):\n",
    "        for i in range(self.board_size):\n",
    "            for j in range(self.board_size):\n",
    "                print(\"|\", end=\"\")\n",
    "                if j == self.board_size - 1:\n",
    "                    print(f\"{self.board[i][j]}|\", end=\"\\n\")\n",
    "                else:\n",
    "                    print(f\"{self.board[i][j]}|\", end=\"\")\n",
    "            if i < self.board_size - 1:\n",
    "                for k in range(self.board_size * 2 + 1):\n",
    "                    print(\"_\", end=\"\")\n",
    "                    if k == self.board_size * 2:\n",
    "                        print(\"_\", end=\"\\n\")\n",
    "\n",
    "\n"
   ]
  },
  {
   "cell_type": "code",
   "execution_count": 23,
   "id": "63f6e585",
   "metadata": {},
   "outputs": [],
   "source": [
    "board = Board(3)"
   ]
  },
  {
   "cell_type": "code",
   "execution_count": 24,
   "id": "9ed847d9",
   "metadata": {},
   "outputs": [
    {
     "name": "stdout",
     "output_type": "stream",
     "text": [
      "|0||0||0|\n",
      "________\n",
      "|0||0||0|\n",
      "________\n",
      "|0||0||0|\n"
     ]
    }
   ],
   "source": [
    "board.print_board()"
   ]
  },
  {
   "cell_type": "code",
   "execution_count": null,
   "id": "b93bb525",
   "metadata": {},
   "outputs": [],
   "source": []
  }
 ],
 "metadata": {
  "kernelspec": {
   "display_name": "Python 3 (ipykernel)",
   "language": "python",
   "name": "python3"
  },
  "language_info": {
   "codemirror_mode": {
    "name": "ipython",
    "version": 3
   },
   "file_extension": ".py",
   "mimetype": "text/x-python",
   "name": "python",
   "nbconvert_exporter": "python",
   "pygments_lexer": "ipython3",
   "version": "3.9.6"
  }
 },
 "nbformat": 4,
 "nbformat_minor": 5
}
